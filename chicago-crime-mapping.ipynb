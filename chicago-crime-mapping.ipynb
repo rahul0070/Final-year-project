{
 "cells": [
  {
   "cell_type": "markdown",
   "metadata": {
    "_uuid": "7125644790e17f71d0e39ba0317371441f12d49d"
   },
   "source": [
    "![](http://)"
   ]
  },
  {
   "cell_type": "markdown",
   "metadata": {
    "_uuid": "ebbd1f9107805874265be0eabf884720bfdb5c80"
   },
   "source": [
    "# Welcome to Chicago Crime Mapping\n",
    "### A  map and graph based interaction between crimes in chicago and the coordinates.\n",
    "\n",
    "![](https://i.imgur.com/ZZNGFv9.png)"
   ]
  },
  {
   "cell_type": "code",
   "execution_count": null,
   "metadata": {
    "collapsed": true
   },
   "outputs": [],
   "source": [
    "# This Python 3 environment comes with many helpful analytics libraries installed\n",
    "# For example, here's several helpful packages to load in \n",
    "# Input data files are available in the \"../input/\" directory.\n",
    "# For example, running this (by clicking run or pressing Shift+Enter) will list the files in the input directory\n",
    "# Any results you write to the current directory are saved as output."
   ]
  },
  {
   "cell_type": "code",
   "execution_count": 2,
   "metadata": {
    "_cell_guid": "b1076dfc-b9ad-4769-8c92-a6c4dae69d19",
    "_uuid": "8f2839f25d086af736a60e9eeb907d3b93b6e0e5",
    "collapsed": false
   },
   "outputs": [
    {
     "name": "stdout",
     "output_type": "stream",
     "text": [
      "['CrimeDataset.csv', 'Chicago_Crimes_2012_to_2017.csv']\n"
     ]
    }
   ],
   "source": [
    "import numpy as np # linear algebra\n",
    "import pandas as pd # data processing, CSV file I/O (e.g. pd.read_csv)\n",
    "import os\n",
    "print(os.listdir(\"/home/bigdata/Input\"))\n",
    "\n"
   ]
  },
  {
   "cell_type": "code",
   "execution_count": 4,
   "metadata": {
    "_cell_guid": "79c7e3d0-c299-4dcb-8224-4455121ee9b0",
    "_uuid": "d629ff2d2480ee46fbb7e2d37f6b5fab8052498a",
    "collapsed": false
   },
   "outputs": [
    {
     "data": {
      "text/html": [
       "<div>\n",
       "<table border=\"1\" class=\"dataframe\">\n",
       "  <thead>\n",
       "    <tr style=\"text-align: right;\">\n",
       "      <th></th>\n",
       "      <th>Unnamed: 0</th>\n",
       "      <th>ID</th>\n",
       "      <th>Case Number</th>\n",
       "      <th>Date</th>\n",
       "      <th>Block</th>\n",
       "      <th>IUCR</th>\n",
       "      <th>Primary Type</th>\n",
       "      <th>Description</th>\n",
       "      <th>Location Description</th>\n",
       "      <th>Arrest</th>\n",
       "      <th>...</th>\n",
       "      <th>Ward</th>\n",
       "      <th>Community Area</th>\n",
       "      <th>FBI Code</th>\n",
       "      <th>X Coordinate</th>\n",
       "      <th>Y Coordinate</th>\n",
       "      <th>Year</th>\n",
       "      <th>Updated On</th>\n",
       "      <th>Latitude</th>\n",
       "      <th>Longitude</th>\n",
       "      <th>Location</th>\n",
       "    </tr>\n",
       "  </thead>\n",
       "  <tbody>\n",
       "    <tr>\n",
       "      <th>0</th>\n",
       "      <td>3</td>\n",
       "      <td>10508693</td>\n",
       "      <td>HZ250496</td>\n",
       "      <td>05/03/2016 11:40:00 PM</td>\n",
       "      <td>013XX S SAWYER AVE</td>\n",
       "      <td>0486</td>\n",
       "      <td>BATTERY</td>\n",
       "      <td>DOMESTIC BATTERY SIMPLE</td>\n",
       "      <td>APARTMENT</td>\n",
       "      <td>True</td>\n",
       "      <td>...</td>\n",
       "      <td>24.0</td>\n",
       "      <td>29.0</td>\n",
       "      <td>08B</td>\n",
       "      <td>1154907.0</td>\n",
       "      <td>1893681.0</td>\n",
       "      <td>2016</td>\n",
       "      <td>05/10/2016 03:56:50 PM</td>\n",
       "      <td>41.864073</td>\n",
       "      <td>-87.706819</td>\n",
       "      <td>(41.864073157, -87.706818608)</td>\n",
       "    </tr>\n",
       "    <tr>\n",
       "      <th>1</th>\n",
       "      <td>89</td>\n",
       "      <td>10508695</td>\n",
       "      <td>HZ250409</td>\n",
       "      <td>05/03/2016 09:40:00 PM</td>\n",
       "      <td>061XX S DREXEL AVE</td>\n",
       "      <td>0486</td>\n",
       "      <td>BATTERY</td>\n",
       "      <td>DOMESTIC BATTERY SIMPLE</td>\n",
       "      <td>RESIDENCE</td>\n",
       "      <td>False</td>\n",
       "      <td>...</td>\n",
       "      <td>20.0</td>\n",
       "      <td>42.0</td>\n",
       "      <td>08B</td>\n",
       "      <td>1183066.0</td>\n",
       "      <td>1864330.0</td>\n",
       "      <td>2016</td>\n",
       "      <td>05/10/2016 03:56:50 PM</td>\n",
       "      <td>41.782922</td>\n",
       "      <td>-87.604363</td>\n",
       "      <td>(41.782921527, -87.60436317)</td>\n",
       "    </tr>\n",
       "    <tr>\n",
       "      <th>2</th>\n",
       "      <td>197</td>\n",
       "      <td>10508697</td>\n",
       "      <td>HZ250503</td>\n",
       "      <td>05/03/2016 11:31:00 PM</td>\n",
       "      <td>053XX W CHICAGO AVE</td>\n",
       "      <td>0470</td>\n",
       "      <td>PUBLIC PEACE VIOLATION</td>\n",
       "      <td>RECKLESS CONDUCT</td>\n",
       "      <td>STREET</td>\n",
       "      <td>False</td>\n",
       "      <td>...</td>\n",
       "      <td>37.0</td>\n",
       "      <td>25.0</td>\n",
       "      <td>24</td>\n",
       "      <td>1140789.0</td>\n",
       "      <td>1904819.0</td>\n",
       "      <td>2016</td>\n",
       "      <td>05/10/2016 03:56:50 PM</td>\n",
       "      <td>41.894908</td>\n",
       "      <td>-87.758372</td>\n",
       "      <td>(41.894908283, -87.758371958)</td>\n",
       "    </tr>\n",
       "    <tr>\n",
       "      <th>3</th>\n",
       "      <td>673</td>\n",
       "      <td>10508698</td>\n",
       "      <td>HZ250424</td>\n",
       "      <td>05/03/2016 10:10:00 PM</td>\n",
       "      <td>049XX W FULTON ST</td>\n",
       "      <td>0460</td>\n",
       "      <td>BATTERY</td>\n",
       "      <td>SIMPLE</td>\n",
       "      <td>SIDEWALK</td>\n",
       "      <td>False</td>\n",
       "      <td>...</td>\n",
       "      <td>28.0</td>\n",
       "      <td>25.0</td>\n",
       "      <td>08B</td>\n",
       "      <td>1143223.0</td>\n",
       "      <td>1901475.0</td>\n",
       "      <td>2016</td>\n",
       "      <td>05/10/2016 03:56:50 PM</td>\n",
       "      <td>41.885687</td>\n",
       "      <td>-87.749516</td>\n",
       "      <td>(41.885686845, -87.749515983)</td>\n",
       "    </tr>\n",
       "    <tr>\n",
       "      <th>4</th>\n",
       "      <td>911</td>\n",
       "      <td>10508699</td>\n",
       "      <td>HZ250455</td>\n",
       "      <td>05/03/2016 10:00:00 PM</td>\n",
       "      <td>003XX N LOTUS AVE</td>\n",
       "      <td>0820</td>\n",
       "      <td>THEFT</td>\n",
       "      <td>$500 AND UNDER</td>\n",
       "      <td>RESIDENCE</td>\n",
       "      <td>False</td>\n",
       "      <td>...</td>\n",
       "      <td>28.0</td>\n",
       "      <td>25.0</td>\n",
       "      <td>06</td>\n",
       "      <td>1139890.0</td>\n",
       "      <td>1901675.0</td>\n",
       "      <td>2016</td>\n",
       "      <td>05/10/2016 03:56:50 PM</td>\n",
       "      <td>41.886297</td>\n",
       "      <td>-87.761751</td>\n",
       "      <td>(41.886297242, -87.761750709)</td>\n",
       "    </tr>\n",
       "  </tbody>\n",
       "</table>\n",
       "<p>5 rows × 23 columns</p>\n",
       "</div>"
      ],
      "text/plain": [
       "   Unnamed: 0        ID Case Number                    Date  \\\n",
       "0           3  10508693    HZ250496  05/03/2016 11:40:00 PM   \n",
       "1          89  10508695    HZ250409  05/03/2016 09:40:00 PM   \n",
       "2         197  10508697    HZ250503  05/03/2016 11:31:00 PM   \n",
       "3         673  10508698    HZ250424  05/03/2016 10:10:00 PM   \n",
       "4         911  10508699    HZ250455  05/03/2016 10:00:00 PM   \n",
       "\n",
       "                 Block  IUCR            Primary Type              Description  \\\n",
       "0   013XX S SAWYER AVE  0486                 BATTERY  DOMESTIC BATTERY SIMPLE   \n",
       "1   061XX S DREXEL AVE  0486                 BATTERY  DOMESTIC BATTERY SIMPLE   \n",
       "2  053XX W CHICAGO AVE  0470  PUBLIC PEACE VIOLATION         RECKLESS CONDUCT   \n",
       "3    049XX W FULTON ST  0460                 BATTERY                   SIMPLE   \n",
       "4    003XX N LOTUS AVE  0820                   THEFT           $500 AND UNDER   \n",
       "\n",
       "  Location Description Arrest              ...                Ward  \\\n",
       "0            APARTMENT   True              ...                24.0   \n",
       "1            RESIDENCE  False              ...                20.0   \n",
       "2               STREET  False              ...                37.0   \n",
       "3             SIDEWALK  False              ...                28.0   \n",
       "4            RESIDENCE  False              ...                28.0   \n",
       "\n",
       "   Community Area  FBI Code  X Coordinate  Y Coordinate  Year  \\\n",
       "0            29.0       08B     1154907.0     1893681.0  2016   \n",
       "1            42.0       08B     1183066.0     1864330.0  2016   \n",
       "2            25.0        24     1140789.0     1904819.0  2016   \n",
       "3            25.0       08B     1143223.0     1901475.0  2016   \n",
       "4            25.0        06     1139890.0     1901675.0  2016   \n",
       "\n",
       "               Updated On   Latitude  Longitude                       Location  \n",
       "0  05/10/2016 03:56:50 PM  41.864073 -87.706819  (41.864073157, -87.706818608)  \n",
       "1  05/10/2016 03:56:50 PM  41.782922 -87.604363   (41.782921527, -87.60436317)  \n",
       "2  05/10/2016 03:56:50 PM  41.894908 -87.758372  (41.894908283, -87.758371958)  \n",
       "3  05/10/2016 03:56:50 PM  41.885687 -87.749516  (41.885686845, -87.749515983)  \n",
       "4  05/10/2016 03:56:50 PM  41.886297 -87.761751  (41.886297242, -87.761750709)  \n",
       "\n",
       "[5 rows x 23 columns]"
      ]
     },
     "execution_count": 4,
     "metadata": {},
     "output_type": "execute_result"
    }
   ],
   "source": [
    "df = pd.read_csv('/home/bigdata/Input/Chicago_Crimes_2012_to_2017.csv')\n",
    "df.head()"
   ]
  },
  {
   "cell_type": "code",
   "execution_count": 5,
   "metadata": {
    "_uuid": "72a6fdabf29294c9d883a63926ad29a9a451bae2",
    "collapsed": true
   },
   "outputs": [],
   "source": [
    "import folium\n",
    "import matplotlib.pyplot as plt\n",
    "import seaborn as sns"
   ]
  },
  {
   "cell_type": "markdown",
   "metadata": {
    "_uuid": "7e0c2235009a38908a33c5dbfac0771703a03ed6"
   },
   "source": [
    "# Having a look at the null values in our dataset"
   ]
  },
  {
   "cell_type": "code",
   "execution_count": 6,
   "metadata": {
    "_uuid": "c98b0a05702b32dedde5d5e0184e0fe047e80603",
    "collapsed": false
   },
   "outputs": [
    {
     "ename": "MemoryError",
     "evalue": "",
     "output_type": "error",
     "traceback": [
      "\u001b[0;31m---------------------------------------------------------------------------\u001b[0m",
      "\u001b[0;31mMemoryError\u001b[0m                               Traceback (most recent call last)",
      "\u001b[0;32m<ipython-input-6-13b7a62999dc>\u001b[0m in \u001b[0;36m<module>\u001b[0;34m()\u001b[0m\n\u001b[1;32m      1\u001b[0m \u001b[0mplt\u001b[0m\u001b[0;34m.\u001b[0m\u001b[0mfigure\u001b[0m\u001b[0;34m(\u001b[0m\u001b[0mfigsize\u001b[0m\u001b[0;34m=\u001b[0m\u001b[0;34m(\u001b[0m\u001b[0;36m10\u001b[0m\u001b[0;34m,\u001b[0m\u001b[0;36m7\u001b[0m\u001b[0;34m)\u001b[0m\u001b[0;34m)\u001b[0m\u001b[0;34m\u001b[0m\u001b[0m\n\u001b[0;32m----> 2\u001b[0;31m \u001b[0msns\u001b[0m\u001b[0;34m.\u001b[0m\u001b[0mheatmap\u001b[0m\u001b[0;34m(\u001b[0m\u001b[0mdf\u001b[0m\u001b[0;34m.\u001b[0m\u001b[0misnull\u001b[0m\u001b[0;34m(\u001b[0m\u001b[0;34m)\u001b[0m\u001b[0;34m,\u001b[0m \u001b[0mcbar\u001b[0m \u001b[0;34m=\u001b[0m \u001b[0mFalse\u001b[0m\u001b[0;34m,\u001b[0m \u001b[0mcmap\u001b[0m \u001b[0;34m=\u001b[0m \u001b[0;34m'viridis'\u001b[0m\u001b[0;34m)\u001b[0m\u001b[0;34m\u001b[0m\u001b[0m\n\u001b[0m",
      "\u001b[0;32m/home/bigdata/anaconda/lib/python2.7/site-packages/seaborn/matrix.pyc\u001b[0m in \u001b[0;36mheatmap\u001b[0;34m(data, vmin, vmax, cmap, center, robust, annot, fmt, annot_kws, linewidths, linecolor, cbar, cbar_kws, cbar_ax, square, xticklabels, yticklabels, mask, ax, **kwargs)\u001b[0m\n\u001b[1;32m    526\u001b[0m     \u001b[0;32mif\u001b[0m \u001b[0msquare\u001b[0m\u001b[0;34m:\u001b[0m\u001b[0;34m\u001b[0m\u001b[0m\n\u001b[1;32m    527\u001b[0m         \u001b[0max\u001b[0m\u001b[0;34m.\u001b[0m\u001b[0mset_aspect\u001b[0m\u001b[0;34m(\u001b[0m\u001b[0;34m\"equal\"\u001b[0m\u001b[0;34m)\u001b[0m\u001b[0;34m\u001b[0m\u001b[0m\n\u001b[0;32m--> 528\u001b[0;31m     \u001b[0mplotter\u001b[0m\u001b[0;34m.\u001b[0m\u001b[0mplot\u001b[0m\u001b[0;34m(\u001b[0m\u001b[0max\u001b[0m\u001b[0;34m,\u001b[0m \u001b[0mcbar_ax\u001b[0m\u001b[0;34m,\u001b[0m \u001b[0mkwargs\u001b[0m\u001b[0;34m)\u001b[0m\u001b[0;34m\u001b[0m\u001b[0m\n\u001b[0m\u001b[1;32m    529\u001b[0m     \u001b[0;32mreturn\u001b[0m \u001b[0max\u001b[0m\u001b[0;34m\u001b[0m\u001b[0m\n\u001b[1;32m    530\u001b[0m \u001b[0;34m\u001b[0m\u001b[0m\n",
      "\u001b[0;32m/home/bigdata/anaconda/lib/python2.7/site-packages/seaborn/matrix.pyc\u001b[0m in \u001b[0;36mplot\u001b[0;34m(self, ax, cax, kws)\u001b[0m\n\u001b[1;32m    316\u001b[0m         \u001b[0;31m# Possibly rotate them if they overlap\u001b[0m\u001b[0;34m\u001b[0m\u001b[0;34m\u001b[0m\u001b[0m\n\u001b[1;32m    317\u001b[0m         \u001b[0;32mif\u001b[0m \u001b[0mhasattr\u001b[0m\u001b[0;34m(\u001b[0m\u001b[0max\u001b[0m\u001b[0;34m.\u001b[0m\u001b[0mfigure\u001b[0m\u001b[0;34m.\u001b[0m\u001b[0mcanvas\u001b[0m\u001b[0;34m,\u001b[0m \u001b[0;34m\"get_renderer\"\u001b[0m\u001b[0;34m)\u001b[0m\u001b[0;34m:\u001b[0m\u001b[0;34m\u001b[0m\u001b[0m\n\u001b[0;32m--> 318\u001b[0;31m             \u001b[0max\u001b[0m\u001b[0;34m.\u001b[0m\u001b[0mfigure\u001b[0m\u001b[0;34m.\u001b[0m\u001b[0mdraw\u001b[0m\u001b[0;34m(\u001b[0m\u001b[0max\u001b[0m\u001b[0;34m.\u001b[0m\u001b[0mfigure\u001b[0m\u001b[0;34m.\u001b[0m\u001b[0mcanvas\u001b[0m\u001b[0;34m.\u001b[0m\u001b[0mget_renderer\u001b[0m\u001b[0;34m(\u001b[0m\u001b[0;34m)\u001b[0m\u001b[0;34m)\u001b[0m\u001b[0;34m\u001b[0m\u001b[0m\n\u001b[0m\u001b[1;32m    319\u001b[0m         \u001b[0;32mif\u001b[0m \u001b[0maxis_ticklabels_overlap\u001b[0m\u001b[0;34m(\u001b[0m\u001b[0mxtl\u001b[0m\u001b[0;34m)\u001b[0m\u001b[0;34m:\u001b[0m\u001b[0;34m\u001b[0m\u001b[0m\n\u001b[1;32m    320\u001b[0m             \u001b[0mplt\u001b[0m\u001b[0;34m.\u001b[0m\u001b[0msetp\u001b[0m\u001b[0;34m(\u001b[0m\u001b[0mxtl\u001b[0m\u001b[0;34m,\u001b[0m \u001b[0mrotation\u001b[0m\u001b[0;34m=\u001b[0m\u001b[0;34m\"vertical\"\u001b[0m\u001b[0;34m)\u001b[0m\u001b[0;34m\u001b[0m\u001b[0m\n",
      "\u001b[0;32m/home/bigdata/anaconda/lib/python2.7/site-packages/matplotlib/artist.pyc\u001b[0m in \u001b[0;36mdraw_wrapper\u001b[0;34m(artist, renderer, *args, **kwargs)\u001b[0m\n\u001b[1;32m     59\u001b[0m     \u001b[0;32mdef\u001b[0m \u001b[0mdraw_wrapper\u001b[0m\u001b[0;34m(\u001b[0m\u001b[0martist\u001b[0m\u001b[0;34m,\u001b[0m \u001b[0mrenderer\u001b[0m\u001b[0;34m,\u001b[0m \u001b[0;34m*\u001b[0m\u001b[0margs\u001b[0m\u001b[0;34m,\u001b[0m \u001b[0;34m**\u001b[0m\u001b[0mkwargs\u001b[0m\u001b[0;34m)\u001b[0m\u001b[0;34m:\u001b[0m\u001b[0;34m\u001b[0m\u001b[0m\n\u001b[1;32m     60\u001b[0m         \u001b[0mbefore\u001b[0m\u001b[0;34m(\u001b[0m\u001b[0martist\u001b[0m\u001b[0;34m,\u001b[0m \u001b[0mrenderer\u001b[0m\u001b[0;34m)\u001b[0m\u001b[0;34m\u001b[0m\u001b[0m\n\u001b[0;32m---> 61\u001b[0;31m         \u001b[0mdraw\u001b[0m\u001b[0;34m(\u001b[0m\u001b[0martist\u001b[0m\u001b[0;34m,\u001b[0m \u001b[0mrenderer\u001b[0m\u001b[0;34m,\u001b[0m \u001b[0;34m*\u001b[0m\u001b[0margs\u001b[0m\u001b[0;34m,\u001b[0m \u001b[0;34m**\u001b[0m\u001b[0mkwargs\u001b[0m\u001b[0;34m)\u001b[0m\u001b[0;34m\u001b[0m\u001b[0m\n\u001b[0m\u001b[1;32m     62\u001b[0m         \u001b[0mafter\u001b[0m\u001b[0;34m(\u001b[0m\u001b[0martist\u001b[0m\u001b[0;34m,\u001b[0m \u001b[0mrenderer\u001b[0m\u001b[0;34m)\u001b[0m\u001b[0;34m\u001b[0m\u001b[0m\n\u001b[1;32m     63\u001b[0m \u001b[0;34m\u001b[0m\u001b[0m\n",
      "\u001b[0;32m/home/bigdata/anaconda/lib/python2.7/site-packages/matplotlib/figure.pyc\u001b[0m in \u001b[0;36mdraw\u001b[0;34m(self, renderer)\u001b[0m\n\u001b[1;32m   1157\u001b[0m         \u001b[0mdsu\u001b[0m\u001b[0;34m.\u001b[0m\u001b[0msort\u001b[0m\u001b[0;34m(\u001b[0m\u001b[0mkey\u001b[0m\u001b[0;34m=\u001b[0m\u001b[0mitemgetter\u001b[0m\u001b[0;34m(\u001b[0m\u001b[0;36m0\u001b[0m\u001b[0;34m)\u001b[0m\u001b[0;34m)\u001b[0m\u001b[0;34m\u001b[0m\u001b[0m\n\u001b[1;32m   1158\u001b[0m         \u001b[0;32mfor\u001b[0m \u001b[0mzorder\u001b[0m\u001b[0;34m,\u001b[0m \u001b[0ma\u001b[0m\u001b[0;34m,\u001b[0m \u001b[0mfunc\u001b[0m\u001b[0;34m,\u001b[0m \u001b[0margs\u001b[0m \u001b[0;32min\u001b[0m \u001b[0mdsu\u001b[0m\u001b[0;34m:\u001b[0m\u001b[0;34m\u001b[0m\u001b[0m\n\u001b[0;32m-> 1159\u001b[0;31m             \u001b[0mfunc\u001b[0m\u001b[0;34m(\u001b[0m\u001b[0;34m*\u001b[0m\u001b[0margs\u001b[0m\u001b[0;34m)\u001b[0m\u001b[0;34m\u001b[0m\u001b[0m\n\u001b[0m\u001b[1;32m   1160\u001b[0m \u001b[0;34m\u001b[0m\u001b[0m\n\u001b[1;32m   1161\u001b[0m         \u001b[0mrenderer\u001b[0m\u001b[0;34m.\u001b[0m\u001b[0mclose_group\u001b[0m\u001b[0;34m(\u001b[0m\u001b[0;34m'figure'\u001b[0m\u001b[0;34m)\u001b[0m\u001b[0;34m\u001b[0m\u001b[0m\n",
      "\u001b[0;32m/home/bigdata/anaconda/lib/python2.7/site-packages/matplotlib/artist.pyc\u001b[0m in \u001b[0;36mdraw_wrapper\u001b[0;34m(artist, renderer, *args, **kwargs)\u001b[0m\n\u001b[1;32m     59\u001b[0m     \u001b[0;32mdef\u001b[0m \u001b[0mdraw_wrapper\u001b[0m\u001b[0;34m(\u001b[0m\u001b[0martist\u001b[0m\u001b[0;34m,\u001b[0m \u001b[0mrenderer\u001b[0m\u001b[0;34m,\u001b[0m \u001b[0;34m*\u001b[0m\u001b[0margs\u001b[0m\u001b[0;34m,\u001b[0m \u001b[0;34m**\u001b[0m\u001b[0mkwargs\u001b[0m\u001b[0;34m)\u001b[0m\u001b[0;34m:\u001b[0m\u001b[0;34m\u001b[0m\u001b[0m\n\u001b[1;32m     60\u001b[0m         \u001b[0mbefore\u001b[0m\u001b[0;34m(\u001b[0m\u001b[0martist\u001b[0m\u001b[0;34m,\u001b[0m \u001b[0mrenderer\u001b[0m\u001b[0;34m)\u001b[0m\u001b[0;34m\u001b[0m\u001b[0m\n\u001b[0;32m---> 61\u001b[0;31m         \u001b[0mdraw\u001b[0m\u001b[0;34m(\u001b[0m\u001b[0martist\u001b[0m\u001b[0;34m,\u001b[0m \u001b[0mrenderer\u001b[0m\u001b[0;34m,\u001b[0m \u001b[0;34m*\u001b[0m\u001b[0margs\u001b[0m\u001b[0;34m,\u001b[0m \u001b[0;34m**\u001b[0m\u001b[0mkwargs\u001b[0m\u001b[0;34m)\u001b[0m\u001b[0;34m\u001b[0m\u001b[0m\n\u001b[0m\u001b[1;32m     62\u001b[0m         \u001b[0mafter\u001b[0m\u001b[0;34m(\u001b[0m\u001b[0martist\u001b[0m\u001b[0;34m,\u001b[0m \u001b[0mrenderer\u001b[0m\u001b[0;34m)\u001b[0m\u001b[0;34m\u001b[0m\u001b[0m\n\u001b[1;32m     63\u001b[0m \u001b[0;34m\u001b[0m\u001b[0m\n",
      "\u001b[0;32m/home/bigdata/anaconda/lib/python2.7/site-packages/matplotlib/axes/_base.pyc\u001b[0m in \u001b[0;36mdraw\u001b[0;34m(self, renderer, inframe)\u001b[0m\n\u001b[1;32m   2322\u001b[0m \u001b[0;34m\u001b[0m\u001b[0m\n\u001b[1;32m   2323\u001b[0m         \u001b[0;32mfor\u001b[0m \u001b[0mzorder\u001b[0m\u001b[0;34m,\u001b[0m \u001b[0ma\u001b[0m \u001b[0;32min\u001b[0m \u001b[0mdsu\u001b[0m\u001b[0;34m:\u001b[0m\u001b[0;34m\u001b[0m\u001b[0m\n\u001b[0;32m-> 2324\u001b[0;31m             \u001b[0ma\u001b[0m\u001b[0;34m.\u001b[0m\u001b[0mdraw\u001b[0m\u001b[0;34m(\u001b[0m\u001b[0mrenderer\u001b[0m\u001b[0;34m)\u001b[0m\u001b[0;34m\u001b[0m\u001b[0m\n\u001b[0m\u001b[1;32m   2325\u001b[0m \u001b[0;34m\u001b[0m\u001b[0m\n\u001b[1;32m   2326\u001b[0m         \u001b[0mrenderer\u001b[0m\u001b[0;34m.\u001b[0m\u001b[0mclose_group\u001b[0m\u001b[0;34m(\u001b[0m\u001b[0;34m'axes'\u001b[0m\u001b[0;34m)\u001b[0m\u001b[0;34m\u001b[0m\u001b[0m\n",
      "\u001b[0;32m/home/bigdata/anaconda/lib/python2.7/site-packages/matplotlib/artist.pyc\u001b[0m in \u001b[0;36mdraw_wrapper\u001b[0;34m(artist, renderer, *args, **kwargs)\u001b[0m\n\u001b[1;32m     59\u001b[0m     \u001b[0;32mdef\u001b[0m \u001b[0mdraw_wrapper\u001b[0m\u001b[0;34m(\u001b[0m\u001b[0martist\u001b[0m\u001b[0;34m,\u001b[0m \u001b[0mrenderer\u001b[0m\u001b[0;34m,\u001b[0m \u001b[0;34m*\u001b[0m\u001b[0margs\u001b[0m\u001b[0;34m,\u001b[0m \u001b[0;34m**\u001b[0m\u001b[0mkwargs\u001b[0m\u001b[0;34m)\u001b[0m\u001b[0;34m:\u001b[0m\u001b[0;34m\u001b[0m\u001b[0m\n\u001b[1;32m     60\u001b[0m         \u001b[0mbefore\u001b[0m\u001b[0;34m(\u001b[0m\u001b[0martist\u001b[0m\u001b[0;34m,\u001b[0m \u001b[0mrenderer\u001b[0m\u001b[0;34m)\u001b[0m\u001b[0;34m\u001b[0m\u001b[0m\n\u001b[0;32m---> 61\u001b[0;31m         \u001b[0mdraw\u001b[0m\u001b[0;34m(\u001b[0m\u001b[0martist\u001b[0m\u001b[0;34m,\u001b[0m \u001b[0mrenderer\u001b[0m\u001b[0;34m,\u001b[0m \u001b[0;34m*\u001b[0m\u001b[0margs\u001b[0m\u001b[0;34m,\u001b[0m \u001b[0;34m**\u001b[0m\u001b[0mkwargs\u001b[0m\u001b[0;34m)\u001b[0m\u001b[0;34m\u001b[0m\u001b[0m\n\u001b[0m\u001b[1;32m     62\u001b[0m         \u001b[0mafter\u001b[0m\u001b[0;34m(\u001b[0m\u001b[0martist\u001b[0m\u001b[0;34m,\u001b[0m \u001b[0mrenderer\u001b[0m\u001b[0;34m)\u001b[0m\u001b[0;34m\u001b[0m\u001b[0m\n\u001b[1;32m     63\u001b[0m \u001b[0;34m\u001b[0m\u001b[0m\n",
      "\u001b[0;32m/home/bigdata/anaconda/lib/python2.7/site-packages/matplotlib/collections.pyc\u001b[0m in \u001b[0;36mdraw\u001b[0;34m(self, renderer)\u001b[0m\n\u001b[1;32m   1845\u001b[0m         \u001b[0moffsets\u001b[0m\u001b[0;34m.\u001b[0m\u001b[0mshape\u001b[0m \u001b[0;34m=\u001b[0m \u001b[0;34m(\u001b[0m\u001b[0;34m-\u001b[0m\u001b[0;36m1\u001b[0m\u001b[0;34m,\u001b[0m \u001b[0;36m2\u001b[0m\u001b[0;34m)\u001b[0m                 \u001b[0;31m# Make it Nx2\u001b[0m\u001b[0;34m\u001b[0m\u001b[0m\n\u001b[1;32m   1846\u001b[0m \u001b[0;34m\u001b[0m\u001b[0m\n\u001b[0;32m-> 1847\u001b[0;31m         \u001b[0mself\u001b[0m\u001b[0;34m.\u001b[0m\u001b[0mupdate_scalarmappable\u001b[0m\u001b[0;34m(\u001b[0m\u001b[0;34m)\u001b[0m\u001b[0;34m\u001b[0m\u001b[0m\n\u001b[0m\u001b[1;32m   1848\u001b[0m \u001b[0;34m\u001b[0m\u001b[0m\n\u001b[1;32m   1849\u001b[0m         \u001b[0;32mif\u001b[0m \u001b[0;32mnot\u001b[0m \u001b[0mtransform\u001b[0m\u001b[0;34m.\u001b[0m\u001b[0mis_affine\u001b[0m\u001b[0;34m:\u001b[0m\u001b[0;34m\u001b[0m\u001b[0m\n",
      "\u001b[0;32m/home/bigdata/anaconda/lib/python2.7/site-packages/matplotlib/collections.pyc\u001b[0m in \u001b[0;36mupdate_scalarmappable\u001b[0;34m(self)\u001b[0m\n\u001b[1;32m    711\u001b[0m             \u001b[0;32mreturn\u001b[0m\u001b[0;34m\u001b[0m\u001b[0m\n\u001b[1;32m    712\u001b[0m         \u001b[0;32mif\u001b[0m \u001b[0mself\u001b[0m\u001b[0;34m.\u001b[0m\u001b[0m_is_filled\u001b[0m\u001b[0;34m:\u001b[0m\u001b[0;34m\u001b[0m\u001b[0m\n\u001b[0;32m--> 713\u001b[0;31m             \u001b[0mself\u001b[0m\u001b[0;34m.\u001b[0m\u001b[0m_facecolors\u001b[0m \u001b[0;34m=\u001b[0m \u001b[0mself\u001b[0m\u001b[0;34m.\u001b[0m\u001b[0mto_rgba\u001b[0m\u001b[0;34m(\u001b[0m\u001b[0mself\u001b[0m\u001b[0;34m.\u001b[0m\u001b[0m_A\u001b[0m\u001b[0;34m,\u001b[0m \u001b[0mself\u001b[0m\u001b[0;34m.\u001b[0m\u001b[0m_alpha\u001b[0m\u001b[0;34m)\u001b[0m\u001b[0;34m\u001b[0m\u001b[0m\n\u001b[0m\u001b[1;32m    714\u001b[0m         \u001b[0;32melif\u001b[0m \u001b[0mself\u001b[0m\u001b[0;34m.\u001b[0m\u001b[0m_is_stroked\u001b[0m\u001b[0;34m:\u001b[0m\u001b[0;34m\u001b[0m\u001b[0m\n\u001b[1;32m    715\u001b[0m             \u001b[0mself\u001b[0m\u001b[0;34m.\u001b[0m\u001b[0m_edgecolors\u001b[0m \u001b[0;34m=\u001b[0m \u001b[0mself\u001b[0m\u001b[0;34m.\u001b[0m\u001b[0mto_rgba\u001b[0m\u001b[0;34m(\u001b[0m\u001b[0mself\u001b[0m\u001b[0;34m.\u001b[0m\u001b[0m_A\u001b[0m\u001b[0;34m,\u001b[0m \u001b[0mself\u001b[0m\u001b[0;34m.\u001b[0m\u001b[0m_alpha\u001b[0m\u001b[0;34m)\u001b[0m\u001b[0;34m\u001b[0m\u001b[0m\n",
      "\u001b[0;32m/home/bigdata/anaconda/lib/python2.7/site-packages/matplotlib/cm.pyc\u001b[0m in \u001b[0;36mto_rgba\u001b[0;34m(self, x, alpha, bytes)\u001b[0m\n\u001b[1;32m    260\u001b[0m         \u001b[0mx\u001b[0m \u001b[0;34m=\u001b[0m \u001b[0mma\u001b[0m\u001b[0;34m.\u001b[0m\u001b[0masarray\u001b[0m\u001b[0;34m(\u001b[0m\u001b[0mx\u001b[0m\u001b[0;34m)\u001b[0m\u001b[0;34m\u001b[0m\u001b[0m\n\u001b[1;32m    261\u001b[0m         \u001b[0mx\u001b[0m \u001b[0;34m=\u001b[0m \u001b[0mself\u001b[0m\u001b[0;34m.\u001b[0m\u001b[0mnorm\u001b[0m\u001b[0;34m(\u001b[0m\u001b[0mx\u001b[0m\u001b[0;34m)\u001b[0m\u001b[0;34m\u001b[0m\u001b[0m\n\u001b[0;32m--> 262\u001b[0;31m         \u001b[0mx\u001b[0m \u001b[0;34m=\u001b[0m \u001b[0mself\u001b[0m\u001b[0;34m.\u001b[0m\u001b[0mcmap\u001b[0m\u001b[0;34m(\u001b[0m\u001b[0mx\u001b[0m\u001b[0;34m,\u001b[0m \u001b[0malpha\u001b[0m\u001b[0;34m=\u001b[0m\u001b[0malpha\u001b[0m\u001b[0;34m,\u001b[0m \u001b[0mbytes\u001b[0m\u001b[0;34m=\u001b[0m\u001b[0mbytes\u001b[0m\u001b[0;34m)\u001b[0m\u001b[0;34m\u001b[0m\u001b[0m\n\u001b[0m\u001b[1;32m    263\u001b[0m         \u001b[0;32mreturn\u001b[0m \u001b[0mx\u001b[0m\u001b[0;34m\u001b[0m\u001b[0m\n\u001b[1;32m    264\u001b[0m \u001b[0;34m\u001b[0m\u001b[0m\n",
      "\u001b[0;32m/home/bigdata/anaconda/lib/python2.7/site-packages/matplotlib/colors.pyc\u001b[0m in \u001b[0;36m__call__\u001b[0;34m(self, X, alpha, bytes)\u001b[0m\n\u001b[1;32m    610\u001b[0m                 \u001b[0;31m# override its alpha just as for any other value.\u001b[0m\u001b[0;34m\u001b[0m\u001b[0;34m\u001b[0m\u001b[0m\n\u001b[1;32m    611\u001b[0m \u001b[0;34m\u001b[0m\u001b[0m\n\u001b[0;32m--> 612\u001b[0;31m         \u001b[0mrgba\u001b[0m \u001b[0;34m=\u001b[0m \u001b[0mnp\u001b[0m\u001b[0;34m.\u001b[0m\u001b[0mempty\u001b[0m\u001b[0;34m(\u001b[0m\u001b[0mshape\u001b[0m\u001b[0;34m=\u001b[0m\u001b[0mxa\u001b[0m\u001b[0;34m.\u001b[0m\u001b[0mshape\u001b[0m \u001b[0;34m+\u001b[0m \u001b[0;34m(\u001b[0m\u001b[0;36m4\u001b[0m\u001b[0;34m,\u001b[0m\u001b[0;34m)\u001b[0m\u001b[0;34m,\u001b[0m \u001b[0mdtype\u001b[0m\u001b[0;34m=\u001b[0m\u001b[0mlut\u001b[0m\u001b[0;34m.\u001b[0m\u001b[0mdtype\u001b[0m\u001b[0;34m)\u001b[0m\u001b[0;34m\u001b[0m\u001b[0m\n\u001b[0m\u001b[1;32m    613\u001b[0m         \u001b[0mlut\u001b[0m\u001b[0;34m.\u001b[0m\u001b[0mtake\u001b[0m\u001b[0;34m(\u001b[0m\u001b[0mxa\u001b[0m\u001b[0;34m,\u001b[0m \u001b[0maxis\u001b[0m\u001b[0;34m=\u001b[0m\u001b[0;36m0\u001b[0m\u001b[0;34m,\u001b[0m \u001b[0mmode\u001b[0m\u001b[0;34m=\u001b[0m\u001b[0;34m'clip'\u001b[0m\u001b[0;34m,\u001b[0m \u001b[0mout\u001b[0m\u001b[0;34m=\u001b[0m\u001b[0mrgba\u001b[0m\u001b[0;34m)\u001b[0m\u001b[0;34m\u001b[0m\u001b[0m\n\u001b[1;32m    614\u001b[0m         \u001b[0;32mif\u001b[0m \u001b[0mvtype\u001b[0m \u001b[0;34m==\u001b[0m \u001b[0;34m'scalar'\u001b[0m\u001b[0;34m:\u001b[0m\u001b[0;34m\u001b[0m\u001b[0m\n",
      "\u001b[0;31mMemoryError\u001b[0m: "
     ]
    }
   ],
   "source": [
    "plt.figure(figsize=(10,7))\n",
    "sns.heatmap(df.isnull(), cbar = False, cmap = 'viridis')"
   ]
  },
  {
   "cell_type": "code",
   "execution_count": 7,
   "metadata": {
    "_uuid": "db67824392497a9e71299ac2b0ce38060d16b46c",
    "collapsed": false
   },
   "outputs": [],
   "source": [
    "df = df.dropna()\n",
    "df = df.drop(['Unnamed: 0', 'ID', 'Case Number', 'Block', 'IUCR','Domestic', 'Beat', 'District', 'Ward','X Coordinate', 'Y Coordinate','Updated On', 'FBI Code'], axis = 1)"
   ]
  },
  {
   "cell_type": "markdown",
   "metadata": {
    "_uuid": "f79577090f43b1beba006245f48c06e75574aeee"
   },
   "source": [
    "# A little self explanatory data exploration from our side.\n",
    "Mostly focussing on the top 10 value counts available to us in terms of Location Description and the Primary Type of Crime"
   ]
  },
  {
   "cell_type": "code",
   "execution_count": 27,
   "metadata": {
    "_uuid": "e75b18d490c7f0c6f65877859b74fa6e5c7ee9bd",
    "collapsed": false
   },
   "outputs": [
    {
     "data": {
      "text/plain": [
       "STREET                            325084\n",
       "RESIDENCE                         223854\n",
       "APARTMENT                         179444\n",
       "SIDEWALK                          158478\n",
       "OTHER                              53474\n",
       "PARKING LOT/GARAGE(NON.RESID.)     40907\n",
       "ALLEY                              31239\n",
       "RESIDENTIAL YARD (FRONT/BACK)      30209\n",
       "SMALL RETAIL STORE                 28209\n",
       "SCHOOL, PUBLIC, BUILDING           25474\n",
       "Name: Location Description, dtype: int64"
      ]
     },
     "execution_count": 27,
     "metadata": {},
     "output_type": "execute_result"
    }
   ],
   "source": [
    "pd.value_counts(df['Location Description'])[:10]"
   ]
  },
  {
   "cell_type": "code",
   "execution_count": 28,
   "metadata": {
    "_uuid": "dafbd9c5ccc453672e93050354172247b9bee99f",
    "collapsed": false
   },
   "outputs": [
    {
     "data": {
      "text/plain": [
       "THEFT                  321950\n",
       "BATTERY                258941\n",
       "CRIMINAL DAMAGE        152812\n",
       "NARCOTICS              131177\n",
       "ASSAULT                 89508\n",
       "OTHER OFFENSE           85361\n",
       "BURGLARY                81668\n",
       "DECEPTIVE PRACTICE      67609\n",
       "MOTOR VEHICLE THEFT     59856\n",
       "ROBBERY                 56092\n",
       "Name: Primary Type, dtype: int64"
      ]
     },
     "execution_count": 28,
     "metadata": {},
     "output_type": "execute_result"
    }
   ],
   "source": [
    "pd.value_counts(df['Primary Type'])[:10]"
   ]
  },
  {
   "cell_type": "markdown",
   "metadata": {
    "_uuid": "71db27c05c7c094fdeb5336237a9cab6eb8bce0f"
   },
   "source": [
    "# Location Description and it's semantics"
   ]
  },
  {
   "cell_type": "code",
   "execution_count": 29,
   "metadata": {
    "_uuid": "f66f1984d23328c0b64fc87047c7109c10b3d705",
    "collapsed": false
   },
   "outputs": [
    {
     "data": {
      "text/plain": [
       "<matplotlib.axes._subplots.AxesSubplot at 0x7f88212e4910>"
      ]
     },
     "execution_count": 29,
     "metadata": {},
     "output_type": "execute_result"
    }
   ],
   "source": [
    "plt.figure(figsize = (15, 10))\n",
    "sns.countplot(y= 'Location Description', data = df, order = df['Location Description'].value_counts().iloc[:10].index)"
   ]
  },
  {
   "cell_type": "code",
   "execution_count": 30,
   "metadata": {
    "_uuid": "170fc13cac7a4f4c32c406e052d28f0db844b396",
    "collapsed": true
   },
   "outputs": [],
   "source": [
    "chicago_map = folium.Map(location=[41.864073,-87.706819],\n",
    "                        zoom_start=11,\n",
    "                        tiles=\"CartoDB dark_matter\")"
   ]
  },
  {
   "cell_type": "code",
   "execution_count": 31,
   "metadata": {
    "_kg_hide-input": true,
    "_uuid": "e61e89af73ecf4b56b39bf681ea7777852fb07c8",
    "collapsed": true
   },
   "outputs": [],
   "source": [
    "locations = df.groupby('Community Area').first()"
   ]
  },
  {
   "cell_type": "code",
   "execution_count": 32,
   "metadata": {
    "_kg_hide-input": true,
    "_uuid": "cb859da6d3422760c4d0ea7b0519b60b7e0d0e30",
    "collapsed": true
   },
   "outputs": [],
   "source": [
    "new_locations = locations.loc[:, ['Latitude', 'Longitude', 'Location Description', 'Arrest']]"
   ]
  },
  {
   "cell_type": "code",
   "execution_count": 33,
   "metadata": {
    "_kg_hide-input": true,
    "_kg_hide-output": true,
    "_uuid": "6fb66bd0139c08c321a7bb29b674921598ce5b40",
    "collapsed": false
   },
   "outputs": [
    {
     "data": {
      "text/html": [
       "<div>\n",
       "<table border=\"1\" class=\"dataframe\">\n",
       "  <thead>\n",
       "    <tr style=\"text-align: right;\">\n",
       "      <th></th>\n",
       "      <th>Latitude</th>\n",
       "      <th>Longitude</th>\n",
       "      <th>Location Description</th>\n",
       "      <th>Arrest</th>\n",
       "    </tr>\n",
       "    <tr>\n",
       "      <th>Community Area</th>\n",
       "      <th></th>\n",
       "      <th></th>\n",
       "      <th></th>\n",
       "      <th></th>\n",
       "    </tr>\n",
       "  </thead>\n",
       "  <tbody>\n",
       "    <tr>\n",
       "      <th>0.0</th>\n",
       "      <td>41.799090</td>\n",
       "      <td>-87.790549</td>\n",
       "      <td>RESIDENCE-GARAGE</td>\n",
       "      <td>False</td>\n",
       "    </tr>\n",
       "    <tr>\n",
       "      <th>1.0</th>\n",
       "      <td>41.998131</td>\n",
       "      <td>-87.665814</td>\n",
       "      <td>SIDEWALK</td>\n",
       "      <td>False</td>\n",
       "    </tr>\n",
       "    <tr>\n",
       "      <th>2.0</th>\n",
       "      <td>41.999731</td>\n",
       "      <td>-87.705810</td>\n",
       "      <td>STREET</td>\n",
       "      <td>False</td>\n",
       "    </tr>\n",
       "    <tr>\n",
       "      <th>3.0</th>\n",
       "      <td>41.972843</td>\n",
       "      <td>-87.671127</td>\n",
       "      <td>HOSPITAL BUILDING/GROUNDS</td>\n",
       "      <td>False</td>\n",
       "    </tr>\n",
       "    <tr>\n",
       "      <th>4.0</th>\n",
       "      <td>41.981316</td>\n",
       "      <td>-87.695119</td>\n",
       "      <td>RESIDENTIAL YARD (FRONT/BACK)</td>\n",
       "      <td>False</td>\n",
       "    </tr>\n",
       "  </tbody>\n",
       "</table>\n",
       "</div>"
      ],
      "text/plain": [
       "                 Latitude  Longitude           Location Description Arrest\n",
       "Community Area                                                            \n",
       "0.0             41.799090 -87.790549               RESIDENCE-GARAGE  False\n",
       "1.0             41.998131 -87.665814                       SIDEWALK  False\n",
       "2.0             41.999731 -87.705810                         STREET  False\n",
       "3.0             41.972843 -87.671127      HOSPITAL BUILDING/GROUNDS  False\n",
       "4.0             41.981316 -87.695119  RESIDENTIAL YARD (FRONT/BACK)  False"
      ]
     },
     "execution_count": 33,
     "metadata": {},
     "output_type": "execute_result"
    }
   ],
   "source": [
    "new_locations.head()"
   ]
  },
  {
   "cell_type": "code",
   "execution_count": 34,
   "metadata": {
    "_kg_hide-input": true,
    "_uuid": "6c558afd5ab9bf0c572af0a71fd44d6693c3b5ee",
    "collapsed": true
   },
   "outputs": [],
   "source": [
    "popup_text = \"\"\"Community Index : {}<br\n",
    "                Arrest : {}<br>\n",
    "                Location Description : {}<br>\"\"\""
   ]
  },
  {
   "cell_type": "markdown",
   "metadata": {
    "_uuid": "335095234c230ce955dabbf3dcbfefa427e07d1e"
   },
   "source": [
    "# Preparing the first map. \n",
    "\n",
    "### Using one location each in a particular community area"
   ]
  },
  {
   "cell_type": "code",
   "execution_count": null,
   "metadata": {
    "_uuid": "0b4594dc2ab16c641c5c62f8c9d4dd40e049b624",
    "collapsed": false
   },
   "outputs": [],
   "source": [
    "for i in range(len(new_locations)):\n",
    "    lat = new_locations.iloc[i][0]\n",
    "    long = new_locations.iloc[i][1]\n",
    "    popup_text = \"\"\"Community Index : {}<br>\n",
    "                Arrest : {}<br>\n",
    "                Location Description : {}<br>\"\"\"\n",
    "    popup_text = popup_text.format(new_locations.index[i],\n",
    "                               new_locations.iloc[i][-1],\n",
    "                               new_locations.iloc[i][-2]\n",
    "                               )\n",
    "    folium.CircleMarker(location = [lat, long], popup= popup_text, fill = True).add_to(chicago_map)"
   ]
  },
  {
   "cell_type": "code",
   "execution_count": 16,
   "metadata": {
    "_uuid": "deec1f5cc8df519f6300c01dabe24e766925f07e",
    "collapsed": false,
    "scrolled": true
   },
   "outputs": [
    {
     "data": {
      "text/html": [
       "<div style=\"width:100%;\"><div style=\"position:relative;width:100%;height:0;padding-bottom:60%;\"><iframe src=\"data:text/html;base64,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\" style=\"position:absolute;width:100%;height:100%;left:0;top:0;\"></iframe></div></div>"
      ],
      "text/plain": [
       "<folium.folium.Map at 0x7f883f36c990>"
      ]
     },
     "execution_count": 16,
     "metadata": {},
     "output_type": "execute_result"
    }
   ],
   "source": [
    "chicago_map"
   ]
  },
  {
   "cell_type": "code",
   "execution_count": 17,
   "metadata": {
    "_kg_hide-input": true,
    "_kg_hide-output": true,
    "_uuid": "fa27e6573d86969b14a46d9d44e7fba674918c17",
    "collapsed": true
   },
   "outputs": [],
   "source": [
    "unique_locations = df['Location'].value_counts()"
   ]
  },
  {
   "cell_type": "code",
   "execution_count": 18,
   "metadata": {
    "_kg_hide-input": true,
    "_kg_hide-output": true,
    "_uuid": "c495311ccdbc8e77f3b9a55c0ad8268f802d8a52",
    "collapsed": false
   },
   "outputs": [
    {
     "data": {
      "text/plain": [
       "Index([u'(41.883500187, -87.627876698)', u'(41.754592961, -87.741528537)',\n",
       "       u'(41.979006297, -87.906463155)', u'(41.897895128, -87.624096605)',\n",
       "       u'(41.742710224, -87.634088181)', u'(41.909664252, -87.742728815)',\n",
       "       u'(41.896888586, -87.628203192)', u'(41.885487535, -87.726422045)',\n",
       "       u'(41.868541914, -87.639235361)', u'(41.976290414, -87.905227221)',\n",
       "       ...\n",
       "       u'(41.697266853, -87.644965146)', u'(41.887584835, -87.743942171)',\n",
       "       u'(41.981107607, -87.774033652)', u'(41.951066277, -87.682315002)',\n",
       "       u'(41.801652468, -87.716031254)', u'(41.872961125, -87.753725736)',\n",
       "       u'(41.928460641, -87.698214522)', u'(41.871862916, -87.707106034)',\n",
       "       u'(41.956168036, -87.665638152)', u'(41.763030405, -87.610365035)'],\n",
       "      dtype='object', length=368079)"
      ]
     },
     "execution_count": 18,
     "metadata": {},
     "output_type": "execute_result"
    }
   ],
   "source": [
    "unique_locations.index"
   ]
  },
  {
   "cell_type": "markdown",
   "metadata": {
    "_uuid": "cd2102a31b385cc6cf810c3e93646631beacaaa2"
   },
   "source": [
    "# A simple Criminal Rate Index DataFrame"
   ]
  },
  {
   "cell_type": "code",
   "execution_count": 19,
   "metadata": {
    "_uuid": "4597efc7e5ec1fb0a03fff7603e7f85fbbf766ca",
    "collapsed": false
   },
   "outputs": [
    {
     "data": {
      "text/html": [
       "<div>\n",
       "<table border=\"1\" class=\"dataframe\">\n",
       "  <thead>\n",
       "    <tr style=\"text-align: right;\">\n",
       "      <th></th>\n",
       "      <th>Raw_String</th>\n",
       "      <th>ValueCount</th>\n",
       "    </tr>\n",
       "  </thead>\n",
       "  <tbody>\n",
       "    <tr>\n",
       "      <th>0</th>\n",
       "      <td>(41.883500187, -87.627876698)</td>\n",
       "      <td>2093</td>\n",
       "    </tr>\n",
       "    <tr>\n",
       "      <th>1</th>\n",
       "      <td>(41.754592961, -87.741528537)</td>\n",
       "      <td>2082</td>\n",
       "    </tr>\n",
       "    <tr>\n",
       "      <th>2</th>\n",
       "      <td>(41.979006297, -87.906463155)</td>\n",
       "      <td>1338</td>\n",
       "    </tr>\n",
       "    <tr>\n",
       "      <th>3</th>\n",
       "      <td>(41.897895128, -87.624096605)</td>\n",
       "      <td>1319</td>\n",
       "    </tr>\n",
       "    <tr>\n",
       "      <th>4</th>\n",
       "      <td>(41.742710224, -87.634088181)</td>\n",
       "      <td>1122</td>\n",
       "    </tr>\n",
       "  </tbody>\n",
       "</table>\n",
       "</div>"
      ],
      "text/plain": [
       "                      Raw_String  ValueCount\n",
       "0  (41.883500187, -87.627876698)        2093\n",
       "1  (41.754592961, -87.741528537)        2082\n",
       "2  (41.979006297, -87.906463155)        1338\n",
       "3  (41.897895128, -87.624096605)        1319\n",
       "4  (41.742710224, -87.634088181)        1122"
      ]
     },
     "execution_count": 19,
     "metadata": {},
     "output_type": "execute_result"
    }
   ],
   "source": [
    "CR_index = pd.DataFrame({\"Raw_String\" : unique_locations.index, \"ValueCount\":unique_locations})\n",
    "CR_index.index = range(len(unique_locations))\n",
    "CR_index.head()"
   ]
  },
  {
   "cell_type": "code",
   "execution_count": 20,
   "metadata": {
    "_uuid": "eac0a3f66466389312ffe225d0649470a8751123",
    "collapsed": true
   },
   "outputs": [],
   "source": [
    "def Location_extractor(Raw_Str):\n",
    "    preProcess = Raw_Str[1:-1].split(',')\n",
    "    lat =  float(preProcess[0])\n",
    "    long = float(preProcess[1])\n",
    "    return (lat, long)"
   ]
  },
  {
   "cell_type": "code",
   "execution_count": 21,
   "metadata": {
    "_uuid": "669d24b055c5eb1d74407c439989c982779e4762",
    "collapsed": true
   },
   "outputs": [],
   "source": [
    "CR_index['LocationCoord'] = CR_index['Raw_String'].apply(Location_extractor)"
   ]
  },
  {
   "cell_type": "code",
   "execution_count": 23,
   "metadata": {
    "_uuid": "1542aa3e12595b2c3611e4337ff209409d403974",
    "collapsed": false
   },
   "outputs": [],
   "source": [
    "CR_index  = CR_index.drop('Raw_String', axis = 1)"
   ]
  },
  {
   "cell_type": "markdown",
   "metadata": {
    "_uuid": "71ada5c164230de2e6e7a8b73e4142e2e5d5606b"
   },
   "source": [
    "# A Simple Chicago Mapping showing the total criminal rates.\n",
    "\n",
    "( As per the number of total criminal rates)"
   ]
  },
  {
   "cell_type": "code",
   "execution_count": 24,
   "metadata": {
    "_uuid": "6f419106c67a745c925ca7136b8bed60883ffc7a",
    "collapsed": false
   },
   "outputs": [
    {
     "ename": "TypeError",
     "evalue": "__init__() got an unexpected keyword argument 'fill'",
     "output_type": "error",
     "traceback": [
      "\u001b[0;31m---------------------------------------------------------------------------\u001b[0m",
      "\u001b[0;31mTypeError\u001b[0m                                 Traceback (most recent call last)",
      "\u001b[0;32m<ipython-input-24-6be0ea8775ec>\u001b[0m in \u001b[0;36m<module>\u001b[0;34m()\u001b[0m\n\u001b[0;32m----> 1\u001b[0;31m \u001b[0mget_ipython\u001b[0m\u001b[0;34m(\u001b[0m\u001b[0;34m)\u001b[0m\u001b[0;34m.\u001b[0m\u001b[0mrun_cell_magic\u001b[0m\u001b[0;34m(\u001b[0m\u001b[0;34mu'time'\u001b[0m\u001b[0;34m,\u001b[0m \u001b[0;34mu''\u001b[0m\u001b[0;34m,\u001b[0m \u001b[0;34mu'\\nchicago_map_crime = folium.Map(location=[41.895140898, -87.624255632],\\n                        zoom_start=13,\\n                        tiles=\"CartoDB dark_matter\")\\n\\nfor i in range(500):\\n    lat = CR_index[\\'LocationCoord\\'].iloc[i][0]\\n    long = CR_index[\\'LocationCoord\\'].iloc[i][1]\\n    radius = CR_index[\\'ValueCount\\'].iloc[i] / 45\\n    \\n    if CR_index[\\'ValueCount\\'].iloc[i] > 1000:\\n        color = \"#FF4500\"\\n    else:\\n        color = \"#008080\"\\n    \\n    popup_text = \"\"\"Latitude : {}<br>\\n                Longitude : {}<br>\\n                Criminal Incidents : {}<br>\"\"\"\\n    popup_text = popup_text.format(lat,\\n                               long,\\n                               CR_index[\\'ValueCount\\'].iloc[i]\\n                               )\\n    folium.CircleMarker(location = [lat, long], popup= popup_text,radius = radius, color = color, fill = True).add_to(chicago_map_crime)'\u001b[0m\u001b[0;34m)\u001b[0m\u001b[0;34m\u001b[0m\u001b[0m\n\u001b[0m",
      "\u001b[0;32m/home/bigdata/anaconda/lib/python2.7/site-packages/IPython/core/interactiveshell.pyc\u001b[0m in \u001b[0;36mrun_cell_magic\u001b[0;34m(self, magic_name, line, cell)\u001b[0m\n\u001b[1;32m   2113\u001b[0m             \u001b[0mmagic_arg_s\u001b[0m \u001b[0;34m=\u001b[0m \u001b[0mself\u001b[0m\u001b[0;34m.\u001b[0m\u001b[0mvar_expand\u001b[0m\u001b[0;34m(\u001b[0m\u001b[0mline\u001b[0m\u001b[0;34m,\u001b[0m \u001b[0mstack_depth\u001b[0m\u001b[0;34m)\u001b[0m\u001b[0;34m\u001b[0m\u001b[0m\n\u001b[1;32m   2114\u001b[0m             \u001b[0;32mwith\u001b[0m \u001b[0mself\u001b[0m\u001b[0;34m.\u001b[0m\u001b[0mbuiltin_trap\u001b[0m\u001b[0;34m:\u001b[0m\u001b[0;34m\u001b[0m\u001b[0m\n\u001b[0;32m-> 2115\u001b[0;31m                 \u001b[0mresult\u001b[0m \u001b[0;34m=\u001b[0m \u001b[0mfn\u001b[0m\u001b[0;34m(\u001b[0m\u001b[0mmagic_arg_s\u001b[0m\u001b[0;34m,\u001b[0m \u001b[0mcell\u001b[0m\u001b[0;34m)\u001b[0m\u001b[0;34m\u001b[0m\u001b[0m\n\u001b[0m\u001b[1;32m   2116\u001b[0m             \u001b[0;32mreturn\u001b[0m \u001b[0mresult\u001b[0m\u001b[0;34m\u001b[0m\u001b[0m\n\u001b[1;32m   2117\u001b[0m \u001b[0;34m\u001b[0m\u001b[0m\n",
      "\u001b[0;32m<decorator-gen-59>\u001b[0m in \u001b[0;36mtime\u001b[0;34m(self, line, cell, local_ns)\u001b[0m\n",
      "\u001b[0;32m/home/bigdata/anaconda/lib/python2.7/site-packages/IPython/core/magic.pyc\u001b[0m in \u001b[0;36m<lambda>\u001b[0;34m(f, *a, **k)\u001b[0m\n\u001b[1;32m    186\u001b[0m     \u001b[0;31m# but it's overkill for just that one bit of state.\u001b[0m\u001b[0;34m\u001b[0m\u001b[0;34m\u001b[0m\u001b[0m\n\u001b[1;32m    187\u001b[0m     \u001b[0;32mdef\u001b[0m \u001b[0mmagic_deco\u001b[0m\u001b[0;34m(\u001b[0m\u001b[0marg\u001b[0m\u001b[0;34m)\u001b[0m\u001b[0;34m:\u001b[0m\u001b[0;34m\u001b[0m\u001b[0m\n\u001b[0;32m--> 188\u001b[0;31m         \u001b[0mcall\u001b[0m \u001b[0;34m=\u001b[0m \u001b[0;32mlambda\u001b[0m \u001b[0mf\u001b[0m\u001b[0;34m,\u001b[0m \u001b[0;34m*\u001b[0m\u001b[0ma\u001b[0m\u001b[0;34m,\u001b[0m \u001b[0;34m**\u001b[0m\u001b[0mk\u001b[0m\u001b[0;34m:\u001b[0m \u001b[0mf\u001b[0m\u001b[0;34m(\u001b[0m\u001b[0;34m*\u001b[0m\u001b[0ma\u001b[0m\u001b[0;34m,\u001b[0m \u001b[0;34m**\u001b[0m\u001b[0mk\u001b[0m\u001b[0;34m)\u001b[0m\u001b[0;34m\u001b[0m\u001b[0m\n\u001b[0m\u001b[1;32m    189\u001b[0m \u001b[0;34m\u001b[0m\u001b[0m\n\u001b[1;32m    190\u001b[0m         \u001b[0;32mif\u001b[0m \u001b[0mcallable\u001b[0m\u001b[0;34m(\u001b[0m\u001b[0marg\u001b[0m\u001b[0;34m)\u001b[0m\u001b[0;34m:\u001b[0m\u001b[0;34m\u001b[0m\u001b[0m\n",
      "\u001b[0;32m/home/bigdata/anaconda/lib/python2.7/site-packages/IPython/core/magics/execution.pyc\u001b[0m in \u001b[0;36mtime\u001b[0;34m(self, line, cell, local_ns)\u001b[0m\n\u001b[1;32m   1178\u001b[0m         \u001b[0;32melse\u001b[0m\u001b[0;34m:\u001b[0m\u001b[0;34m\u001b[0m\u001b[0m\n\u001b[1;32m   1179\u001b[0m             \u001b[0mst\u001b[0m \u001b[0;34m=\u001b[0m \u001b[0mclock2\u001b[0m\u001b[0;34m(\u001b[0m\u001b[0;34m)\u001b[0m\u001b[0;34m\u001b[0m\u001b[0m\n\u001b[0;32m-> 1180\u001b[0;31m             \u001b[0;32mexec\u001b[0m\u001b[0;34m(\u001b[0m\u001b[0mcode\u001b[0m\u001b[0;34m,\u001b[0m \u001b[0mglob\u001b[0m\u001b[0;34m,\u001b[0m \u001b[0mlocal_ns\u001b[0m\u001b[0;34m)\u001b[0m\u001b[0;34m\u001b[0m\u001b[0m\n\u001b[0m\u001b[1;32m   1181\u001b[0m             \u001b[0mend\u001b[0m \u001b[0;34m=\u001b[0m \u001b[0mclock2\u001b[0m\u001b[0;34m(\u001b[0m\u001b[0;34m)\u001b[0m\u001b[0;34m\u001b[0m\u001b[0m\n\u001b[1;32m   1182\u001b[0m             \u001b[0mout\u001b[0m \u001b[0;34m=\u001b[0m \u001b[0mNone\u001b[0m\u001b[0;34m\u001b[0m\u001b[0m\n",
      "\u001b[0;32m<timed exec>\u001b[0m in \u001b[0;36m<module>\u001b[0;34m()\u001b[0m\n",
      "\u001b[0;31mTypeError\u001b[0m: __init__() got an unexpected keyword argument 'fill'"
     ]
    }
   ],
   "source": [
    "%%time\n",
    "\n",
    "chicago_map_crime = folium.Map(location=[41.895140898, -87.624255632],\n",
    "                        zoom_start=13,\n",
    "                        tiles=\"CartoDB dark_matter\")\n",
    "\n",
    "for i in range(500):\n",
    "    lat = CR_index['LocationCoord'].iloc[i][0]\n",
    "    long = CR_index['LocationCoord'].iloc[i][1]\n",
    "    radius = CR_index['ValueCount'].iloc[i] / 45\n",
    "    \n",
    "    if CR_index['ValueCount'].iloc[i] > 1000:\n",
    "        color = \"#FF4500\"\n",
    "    else:\n",
    "        color = \"#008080\"\n",
    "    \n",
    "    popup_text = \"\"\"Latitude : {}<br>\n",
    "                Longitude : {}<br>\n",
    "                Criminal Incidents : {}<br>\"\"\"\n",
    "    popup_text = popup_text.format(lat,\n",
    "                               long,\n",
    "                               CR_index['ValueCount'].iloc[i]\n",
    "                               )\n",
    "    folium.CircleMarker(location = [lat, long], popup= popup_text,radius = radius, color = color, fill = True).add_to(chicago_map_crime)"
   ]
  },
  {
   "cell_type": "code",
   "execution_count": null,
   "metadata": {
    "_uuid": "bb00b53854f79a6700100270b47725abb0173e5d",
    "collapsed": true
   },
   "outputs": [],
   "source": [
    "chicago_map_crime"
   ]
  },
  {
   "cell_type": "markdown",
   "metadata": {
    "_uuid": "f3d32cb0aca38c2990d55e3a9bcad58b94f0f46e"
   },
   "source": [
    "# Having a closer look at the thefts "
   ]
  },
  {
   "cell_type": "code",
   "execution_count": null,
   "metadata": {
    "_uuid": "c532e2cb386098135573a1d42fbcee3cff3f9577",
    "collapsed": true
   },
   "outputs": [],
   "source": [
    "df_theft = df[df['Primary Type'] == 'THEFT']"
   ]
  },
  {
   "cell_type": "code",
   "execution_count": null,
   "metadata": {
    "_uuid": "f3167d904e2c1adb747ceb613d5059c5ba5d55d8",
    "collapsed": true
   },
   "outputs": [],
   "source": [
    "plt.figure(figsize = (15, 7))\n",
    "sns.countplot(y = df_theft['Description'])"
   ]
  },
  {
   "cell_type": "code",
   "execution_count": null,
   "metadata": {
    "_kg_hide-input": true,
    "_uuid": "21188eabf2e8e2d85d2a1b373c186efb4f59f465",
    "collapsed": true
   },
   "outputs": [],
   "source": [
    "df_theft_data = pd.DataFrame({\"Counts\": df_theft['Description'].value_counts(), \"Description\" : df_theft['Description'].value_counts().index})"
   ]
  },
  {
   "cell_type": "code",
   "execution_count": null,
   "metadata": {
    "_kg_hide-input": true,
    "_uuid": "c454084026da5c1762d36aa15ba407f68c6cb1e8",
    "collapsed": true
   },
   "outputs": [],
   "source": [
    "df_theft_data.reset_index(inplace=True)"
   ]
  },
  {
   "cell_type": "code",
   "execution_count": null,
   "metadata": {
    "_uuid": "5ce6938f67ac3a3065fe6f643639f077a75c7559",
    "collapsed": true
   },
   "outputs": [],
   "source": [
    "df_theft_data = df_theft_data.drop(columns=['index'], axis = 1)\n",
    "df_theft_data.head()"
   ]
  },
  {
   "cell_type": "markdown",
   "metadata": {
    "_uuid": "0d726a9b57fa74dbffe043d8620f34d9cda8c515"
   },
   "source": [
    "# Maybe a sorted array of counts would look good"
   ]
  },
  {
   "cell_type": "code",
   "execution_count": null,
   "metadata": {
    "_uuid": "1ff1469c6fc2969c187b9c74de067c0fb5cc6159",
    "collapsed": true
   },
   "outputs": [],
   "source": [
    "plt.figure(figsize = (15, 7))\n",
    "sns.barplot(y =\"Description\", x = \"Counts\", data = df_theft_data, palette=\"jet_r\")"
   ]
  },
  {
   "cell_type": "code",
   "execution_count": null,
   "metadata": {
    "_uuid": "b4c0b001bd7cf659263c00b04e0203e0045c88a9",
    "collapsed": true
   },
   "outputs": [],
   "source": [
    "%%time\n",
    "df_theft['Date'] = pd.to_datetime(df_theft['Date'])"
   ]
  },
  {
   "cell_type": "code",
   "execution_count": null,
   "metadata": {
    "_kg_hide-output": true,
    "_uuid": "8639360e986e1010c808963fe2dd9dabcc34450d",
    "collapsed": true
   },
   "outputs": [],
   "source": [
    "df_theft['Month'] = df_theft['Date'].apply(lambda x : x.month)"
   ]
  },
  {
   "cell_type": "code",
   "execution_count": null,
   "metadata": {
    "_uuid": "9a3ab5cac5a54f1a38d6b00be6308c0e34fa2089",
    "collapsed": true
   },
   "outputs": [],
   "source": [
    "theft_in_months = pd.DataFrame({\"thefts\" : df_theft['Month'].value_counts(), \"month\" : df_theft[\"Month\"].value_counts().index}, index = range(12))"
   ]
  },
  {
   "cell_type": "code",
   "execution_count": null,
   "metadata": {
    "_uuid": "87a9265d54b6663b1be18b251d8b382fc9f68b9b",
    "collapsed": true
   },
   "outputs": [],
   "source": [
    "theft_in_months.fillna(0, inplace=True)\n",
    "theft_in_months = theft_in_months.sort_values(['month'], ascending=[1])"
   ]
  },
  {
   "cell_type": "code",
   "execution_count": null,
   "metadata": {
    "_uuid": "4fe976ab735032c4e000583f139e5f4e411387d2",
    "collapsed": true
   },
   "outputs": [],
   "source": [
    "theft_in_months.head()"
   ]
  },
  {
   "cell_type": "markdown",
   "metadata": {
    "_uuid": "23077634d98a530c845d227c3bd2527af23cc5fc"
   },
   "source": [
    "# An overall monthly trend presented in a plate"
   ]
  },
  {
   "cell_type": "code",
   "execution_count": null,
   "metadata": {
    "_uuid": "10bb0580297179a4b14926c0d93cb16f55448009",
    "collapsed": true
   },
   "outputs": [],
   "source": [
    "plt.figure(figsize = (15,7))\n",
    "plt.plot(theft_in_months['month'],theft_in_months['thefts'], label = 'Total In Month')\n",
    "plt.plot(theft_in_months['month'],theft_in_months['thefts'].rolling(window = 2).mean(),color='red', linewidth=5, label='2-months Moving Average' )\n",
    "\n",
    "plt.title('Thefts per month', fontsize=16)\n",
    "plt.xlabel('Months')\n",
    "plt.legend(prop={'size':16})\n",
    "plt.tick_params(labelsize=16);"
   ]
  },
  {
   "cell_type": "code",
   "execution_count": null,
   "metadata": {
    "_uuid": "dde2af81d81e7a78a8e65a9976cfb64c5ed819d0",
    "collapsed": true
   },
   "outputs": [],
   "source": [
    "print(max(df_theft['Date']))\n",
    "print(min(df_theft['Date']))"
   ]
  },
  {
   "cell_type": "code",
   "execution_count": null,
   "metadata": {
    "_uuid": "be8c59f0524162417424b2e57b7f5c00804d124d",
    "collapsed": true
   },
   "outputs": [],
   "source": [
    "df_theft['Date'].iloc[0].date()"
   ]
  },
  {
   "cell_type": "code",
   "execution_count": null,
   "metadata": {
    "_uuid": "87c81e286bea60222a1915801251b991c02a5d03",
    "collapsed": true
   },
   "outputs": [],
   "source": [
    "df_theft_dates = df_theft['Location']\n",
    "df_theft_dates.index = df_theft['Date']\n",
    "resampled = df_theft_dates.resample('D')\n",
    "df_theft_dates['MEAN'] = resampled.size().mean()\n",
    "df_theft_dates['STD'] = resampled.size().std()\n"
   ]
  },
  {
   "cell_type": "code",
   "execution_count": null,
   "metadata": {
    "_uuid": "a8004ac814916cadd0feab791e3b459433e5c7d6",
    "collapsed": true
   },
   "outputs": [],
   "source": [
    "UCL = df_theft_dates['MEAN'] + 3 * df_theft_dates['STD']\n",
    "LCL = df_theft_dates['MEAN'] -  3 * df_theft_dates['STD']"
   ]
  },
  {
   "cell_type": "code",
   "execution_count": null,
   "metadata": {
    "_uuid": "f50b20926cffed4d5b216e8a9795c24f74699930",
    "collapsed": true
   },
   "outputs": [],
   "source": [
    "%%time\n",
    "\n",
    "plt.figure(figsize=(20, 7))\n",
    "resampled.size().plot(label = \"Thefts on a daily basis\", color = 'red')\n",
    "# plt.plot(y = UCL,x = resampled.index, color='red', ls='--', linewidth=1.5, label='UCL')\n",
    "\n",
    "# LCL.plot(color='red', ls='--', linewidth=1.5, label='LCL')\n",
    "# df_theft_dates['MEAN'].plot(color='red', linewidth=2, label='Average')\n",
    "\n",
    "plt.title('Total crimes per day', fontsize=16)\n",
    "plt.xlabel('Day')\n",
    "plt.ylabel('Number of crimes')\n",
    "plt.tick_params(labelsize=14)\n",
    "plt.legend(prop={'size':16})"
   ]
  },
  {
   "cell_type": "code",
   "execution_count": null,
   "metadata": {
    "_uuid": "dc1917bec5a47b2d6387521eed65ab106324dde7",
    "collapsed": true
   },
   "outputs": [],
   "source": [
    "resampled.size().std()"
   ]
  },
  {
   "cell_type": "markdown",
   "metadata": {
    "_uuid": "96ccd1840d137bc9fa379e21c8547ae9e068ab4e"
   },
   "source": [
    "# As you may have noticed, the yearly crime statistics follow a general trend.\n",
    "\n",
    "Here, the noticable trend is a rise in curve at the start of the year and achieveing the peak at the mid point. somehwhere at **June - July** . After that it has an equally sharp drop to the initial number of crimes as the year started!"
   ]
  },
  {
   "cell_type": "markdown",
   "metadata": {
    "_uuid": "7a468fe06d1ad6892dd6e42d9f6b52a2ae92c0f7"
   },
   "source": [
    "# Having a look at Public Peace Violations"
   ]
  },
  {
   "cell_type": "code",
   "execution_count": null,
   "metadata": {
    "_uuid": "d7a90c9ee0dc2fcf366454af93c10bd3e2df9e4e",
    "collapsed": true
   },
   "outputs": [],
   "source": [
    "df_public_peace =  df[df['Primary Type'] == 'PUBLIC PEACE VIOLATION']"
   ]
  },
  {
   "cell_type": "code",
   "execution_count": null,
   "metadata": {
    "_uuid": "a5503279c84d5ce187f7171687585549971b1a18",
    "collapsed": true
   },
   "outputs": [],
   "source": [
    "df_public_data = pd.DataFrame({\"Counts\": df_public_peace['Description'].value_counts(), \"Description\" : df_public_peace['Description'].value_counts().index})\n",
    "df_public_data.reset_index(inplace=True)\n",
    "df_public_data = df_public_data.drop(columns=['index'], axis = 1)\n",
    "df_public_data.head()"
   ]
  },
  {
   "cell_type": "code",
   "execution_count": null,
   "metadata": {
    "_uuid": "26269e03eac8b8f6658f9a1ab6cd6ced3932605d",
    "collapsed": true
   },
   "outputs": [],
   "source": [
    "plt.figure(figsize = (15, 7))\n",
    "sns.barplot(y =\"Description\", x = \"Counts\", data = df_public_data, palette=\"cool\")"
   ]
  },
  {
   "cell_type": "markdown",
   "metadata": {
    "_uuid": "bb382ccf57081ddc88e0c9e48c10a82b0dec19fa"
   },
   "source": [
    "# Focussing on Reckless Conduct, one can see how it out numbers our threats \n",
    "Sadly, Bomb and Arson Threats still are a major problem in society and it's obvious to notice that most of these threats are based in Schools or Public Places.\n",
    "\n",
    "But , can we predict where will be next Bombing threats? Let's check out that scenario."
   ]
  },
  {
   "cell_type": "code",
   "execution_count": null,
   "metadata": {
    "_uuid": "87a3d4a751d69367317bf7d579f336d83763982c",
    "collapsed": true
   },
   "outputs": [],
   "source": [
    "unique_locations_bombs = df_public_peace['Location'].value_counts()"
   ]
  },
  {
   "cell_type": "code",
   "execution_count": null,
   "metadata": {
    "_uuid": "7d6bce6ff7ba7c20377b5a37f63a860e3a3b7b1b",
    "collapsed": true
   },
   "outputs": [],
   "source": [
    "PB_index = pd.DataFrame({\"Raw_String\" : unique_locations_bombs.index, \"ValueCount\":unique_locations_bombs})\n",
    "PB_index.index = range(len(unique_locations_bombs))\n",
    "PB_index.head()"
   ]
  },
  {
   "cell_type": "code",
   "execution_count": null,
   "metadata": {
    "_uuid": "dc3a6fd28886ff7ae60e4338553687f956a6cdc7",
    "collapsed": true
   },
   "outputs": [],
   "source": [
    "PB_index['LocationCoord'] = PB_index['Raw_String'].apply(Location_extractor)\n",
    "PB_index  = PB_index.drop(columns=['Raw_String'], axis = 1)"
   ]
  },
  {
   "cell_type": "code",
   "execution_count": null,
   "metadata": {
    "_uuid": "f6efe0cce4a5feb99c6cf6ddf73b053a390e246d",
    "collapsed": true
   },
   "outputs": [],
   "source": [
    "chicago_crime_pp = folium.Map(location=[41.895140898, -87.624255632],\n",
    "                        zoom_start=13)"
   ]
  },
  {
   "cell_type": "code",
   "execution_count": null,
   "metadata": {
    "_uuid": "4b0a1877d4cd59c6a3f9efa0d0cf9e64dc04b3a7",
    "collapsed": true,
    "scrolled": true
   },
   "outputs": [],
   "source": [
    "for i in range(500):\n",
    "    lat = PB_index['LocationCoord'].iloc[i][0]\n",
    "    long = PB_index['LocationCoord'].iloc[i][1]\n",
    "    radius = PB_index['ValueCount'].iloc[i] / 3\n",
    "    \n",
    "    if PB_index['ValueCount'].iloc[i] > 30:\n",
    "        color = \"#FF4500\"\n",
    "    else:\n",
    "        color = \"#008080\"\n",
    "    \n",
    "    popup_text = \"\"\"Latitude : {}<br>\n",
    "                Longitude : {}<br>\n",
    "                Peace Disruptions : {}<br>\"\"\"\n",
    "    popup_text = popup_text.format(lat,\n",
    "                               long,\n",
    "                               PB_index['ValueCount'].iloc[i]\n",
    "                               )\n",
    "    folium.CircleMarker(location = [lat, long], popup= popup_text,radius = radius, color = color, fill = True).add_to(chicago_crime_pp)"
   ]
  },
  {
   "cell_type": "code",
   "execution_count": null,
   "metadata": {
    "_uuid": "6e12e3f146e67ea21341c44d9d8fc7e643e3a50a",
    "collapsed": true
   },
   "outputs": [],
   "source": [
    "folium.TileLayer('cartodbpositron').add_to(chicago_crime_pp)"
   ]
  },
  {
   "cell_type": "markdown",
   "metadata": {
    "_uuid": "f7588c55ea8e29da7a5e7f974bb873cf77e61e47"
   },
   "source": [
    "# These are the actual figures of pubic disruptions "
   ]
  },
  {
   "cell_type": "code",
   "execution_count": null,
   "metadata": {
    "_uuid": "58ae9616bd888099d5a81ff637806b4a62309268",
    "collapsed": true
   },
   "outputs": [],
   "source": [
    "chicago_crime_pp"
   ]
  },
  {
   "cell_type": "markdown",
   "metadata": {
    "_uuid": "79996be4eb17941a2480078be3f5023bd4bc8934"
   },
   "source": []
  },
  {
   "cell_type": "code",
   "execution_count": null,
   "metadata": {
    "_uuid": "b2d5a87d297db8dbbe0f3a0896b7b5959bc1f72a",
    "collapsed": true
   },
   "outputs": [],
   "source": []
  }
 ],
 "metadata": {
  "anaconda-cloud": {},
  "kernelspec": {
   "display_name": "Python [conda env:anaconda]",
   "language": "python",
   "name": "conda-env-anaconda-py"
  },
  "language_info": {
   "codemirror_mode": {
    "name": "ipython",
    "version": 2
   },
   "file_extension": ".py",
   "mimetype": "text/x-python",
   "name": "python",
   "nbconvert_exporter": "python",
   "pygments_lexer": "ipython2",
   "version": "2.7.15"
  }
 },
 "nbformat": 4,
 "nbformat_minor": 1
}
